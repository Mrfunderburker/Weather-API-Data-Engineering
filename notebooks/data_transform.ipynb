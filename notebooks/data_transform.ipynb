{
 "cells": [
  {
   "cell_type": "code",
   "execution_count": 100,
   "metadata": {},
   "outputs": [],
   "source": [
    "import pandas as pd\n",
    "import numpy as np\n",
    "import matplotlib.pyplot as plt\n",
    "import seaborn as sns"
   ]
  },
  {
   "cell_type": "code",
   "execution_count": 101,
   "metadata": {},
   "outputs": [],
   "source": [
    "# retun CSV file\n",
    "df = pd.read_csv(\"../data/csv/new.csv\")\n",
    "df.head()\n",
    "#remove nulls\n",
    "df.dropna(inplace=True)\n",
    "df[\"time\"] = pd.to_datetime(df[\"time\"])\n",
    "df = df.set_index(\"time\")\n"
   ]
  },
  {
   "cell_type": "code",
   "execution_count": 102,
   "metadata": {},
   "outputs": [],
   "source": [
    "# resample by month and calculate the median\n",
    "monthly_medians = df[[\"temperature_2m\", \"relative_humidity_2m\", \"precipitation\", \"surface_pressure\"]].resample(\"ME\").median()\n",
    "\n",
    "# save the result to a CSV\n",
    "monthly_medians.to_csv(\"monthly_medians.csv\")\n"
   ]
  },
  {
   "cell_type": "code",
   "execution_count": 103,
   "metadata": {},
   "outputs": [],
   "source": [
    "# resample by year and calculate the median\n",
    "yearly_medians = df[[\"temperature_2m\", \"relative_humidity_2m\", \"precipitation\", \"surface_pressure\"]].resample(\"YE\").median()\n",
    "\n",
    "# save the result to a CSV\n",
    "yearly_medians.to_csv(\"yearly_medians.csv\")"
   ]
  },
  {
   "cell_type": "code",
   "execution_count": 104,
   "metadata": {},
   "outputs": [],
   "source": [
    "# read the CSV file\n",
    "yearly_harvestdf = pd.read_csv(\"../data/csv/br_final.csv\")\n",
    "\n",
    "# filter rows and columns\n",
    "yearly_harvestdf = yearly_harvestdf.loc[yearly_harvestdf[\"subdivision\"] == \"Minas Gerais\",[\"year\", \"million_60kgs_bag\", \"nonbear_mill_trees\", \"bear_mill_trees\", \"avg_unemp_perc\"]]\n",
    "\n",
    "# save to CSV\n",
    "yearly_harvestdf.to_csv(\"../data/csv/yearly_harvest.csv\", index=False)"
   ]
  },
  {
   "cell_type": "code",
   "execution_count": 105,
   "metadata": {},
   "outputs": [
    {
     "name": "stdout",
     "output_type": "stream",
     "text": [
      "      temperature_2m  relative_humidity_2m  precipitation  surface_pressure  \\\n",
      "year                                                                          \n",
      "2022            22.8                  65.0            0.0             974.5   \n",
      "2023            24.4                  71.0            0.0             975.2   \n",
      "\n",
      "      million_60kgs_bag  nonbear_mill_trees  bear_mill_trees  avg_unemp_perc  \n",
      "year                                                                          \n",
      "2022               24.5              1500.0           6010.0            7.15  \n",
      "2023               28.5              1510.0           6100.0             NaN  \n"
     ]
    }
   ],
   "source": [
    "# reset index, rename colums\n",
    "yearly_medians = yearly_medians.reset_index()\n",
    "yearly_medians = yearly_medians.rename(columns={\"time\":\"year\"})\n",
    "yearly_medians[\"year\"] = yearly_medians[\"year\"].dt.year\n",
    "# merge/combine data sets\n",
    "combine = yearly_medians.merge(yearly_harvestdf, on=\"year\", how=\"outer\")\n",
    "# make index year and save to csv\n",
    "combine = combine.set_index(\"year\")\n",
    "combine = combine.loc[[2022, 2023]]\n",
    "combine.to_csv(\"../data/csv/combine.csv\")\n",
    "\n",
    "print(combine)"
   ]
  }
 ],
 "metadata": {
  "kernelspec": {
   "display_name": "base",
   "language": "python",
   "name": "python3"
  },
  "language_info": {
   "codemirror_mode": {
    "name": "ipython",
    "version": 3
   },
   "file_extension": ".py",
   "mimetype": "text/x-python",
   "name": "python",
   "nbconvert_exporter": "python",
   "pygments_lexer": "ipython3",
   "version": "3.12.4"
  }
 },
 "nbformat": 4,
 "nbformat_minor": 2
}
